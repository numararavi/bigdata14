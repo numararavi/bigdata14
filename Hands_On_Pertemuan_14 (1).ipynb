{
  "cells": [
    {
      "cell_type": "markdown",
      "id": "e2a030e3",
      "metadata": {
        "id": "e2a030e3"
      },
      "source": [
        "# Hands-On Pertemuan 14: Advanced Machine Learning using Spark MLlib"
      ]
    },
    {
      "cell_type": "markdown",
      "id": "099562db",
      "metadata": {
        "id": "099562db"
      },
      "source": [
        "## Objectives:\n",
        "- Understand and implement advanced machine learning tasks using Spark MLlib.\n",
        "- Build and evaluate models using real-world datasets.\n",
        "- Explore techniques like feature engineering and hyperparameter tuning.\n"
      ]
    },
    {
      "cell_type": "markdown",
      "id": "77df771a",
      "metadata": {
        "id": "77df771a"
      },
      "source": [
        "## Introduction to Spark MLlib\n",
        "Spark MLlib is a scalable library for machine learning that integrates seamlessly with the Spark ecosystem. It supports a wide range of tasks, including regression, classification, clustering, and collaborative filtering."
      ]
    },
    {
      "cell_type": "code",
      "source": [
        "pip install pyspark"
      ],
      "metadata": {
        "colab": {
          "base_uri": "https://localhost:8080/"
        },
        "id": "5DoQa1hcQDoU",
        "outputId": "d8e7388b-ceb8-4656-d9c8-8f026db726a7"
      },
      "id": "5DoQa1hcQDoU",
      "execution_count": null,
      "outputs": [
        {
          "output_type": "stream",
          "name": "stdout",
          "text": [
            "Requirement already satisfied: pyspark in /usr/local/lib/python3.10/dist-packages (3.5.3)\n",
            "Requirement already satisfied: py4j==0.10.9.7 in /usr/local/lib/python3.10/dist-packages (from pyspark) (0.10.9.7)\n"
          ]
        }
      ]
    },
    {
      "cell_type": "code",
      "execution_count": 7,
      "id": "d9ae225b",
      "metadata": {
        "colab": {
          "base_uri": "https://localhost:8080/"
        },
        "id": "d9ae225b",
        "outputId": "902b37d1-2114-4130-e840-6d607b3f4c04"
      },
      "outputs": [
        {
          "output_type": "stream",
          "name": "stdout",
          "text": [
            "Coefficients: [0.9999999999999992]\n",
            "Intercept: 15.000000000000009\n"
          ]
        }
      ],
      "source": [
        "# Example: Linear Regression with Spark MLlib\n",
        "from pyspark.sql import SparkSession\n",
        "from pyspark.ml.regression import LinearRegression\n",
        "from pyspark.ml.feature import VectorAssembler\n",
        "\n",
        "# Initialize Spark Session\n",
        "spark = SparkSession.builder.appName('MLlib Example').getOrCreate()\n",
        "\n",
        "# Load sample data\n",
        "data = [(1, 5.0, 20.0), (2, 10.0, 25.0), (3, 15.0, 30.0), (4, 20.0, 35.0)]\n",
        "columns = ['ID', 'Feature', 'Target']\n",
        "df = spark.createDataFrame(data, columns)\n",
        "\n",
        "# Prepare data for modeling\n",
        "assembler = VectorAssembler(inputCols=['Feature'], outputCol='Features')\n",
        "df_transformed = assembler.transform(df)\n",
        "\n",
        "# Train a linear regression model\n",
        "lr = LinearRegression(featuresCol='Features', labelCol='Target')\n",
        "model = lr.fit(df_transformed)\n",
        "\n",
        "# Print model coefficients\n",
        "print(f'Coefficients: {model.coefficients}')\n",
        "print(f'Intercept: {model.intercept}')\n"
      ]
    },
    {
      "cell_type": "code",
      "execution_count": null,
      "id": "0b266267",
      "metadata": {
        "colab": {
          "base_uri": "https://localhost:8080/"
        },
        "id": "0b266267",
        "outputId": "699674ca-3488-48c9-87e0-4cf5c7cdfbf4"
      },
      "outputs": [
        {
          "output_type": "stream",
          "name": "stdout",
          "text": [
            "Coefficients: [-12.262057929180484,4.087352266486688]\n",
            "Intercept: 11.56891272665312\n"
          ]
        }
      ],
      "source": [
        "# Practice: Logistic Regression\n",
        "from pyspark.ml.classification import LogisticRegression\n",
        "from pyspark.ml.linalg import Vectors\n",
        "\n",
        "# Example dataset\n",
        "data = [(1, Vectors.dense([2.0, 3.0]), 0), (2,Vectors.dense ([1.0, 5.0]), 1), (3, Vectors.dense([2.5, 4.5]), 1), (4,Vectors.dense ([3.0, 6.0]), 0)]\n",
        "columns = ['ID', 'Features', 'Label']\n",
        "df = spark.createDataFrame(data, columns)\n",
        "\n",
        "# Train logistic regression model\n",
        "lr = LogisticRegression(featuresCol='Features', labelCol='Label')\n",
        "model = lr.fit(df)\n",
        "\n",
        "# Display coefficients and summary\n",
        "print(f'Coefficients: {model.coefficients}')\n",
        "print(f'Intercept: {model.intercept}')\n"
      ]
    },
    {
      "cell_type": "code",
      "execution_count": null,
      "id": "b9066e04",
      "metadata": {
        "colab": {
          "base_uri": "https://localhost:8080/"
        },
        "id": "b9066e04",
        "outputId": "548bbaa0-9540-483f-9996-2020aed4a1c2"
      },
      "outputs": [
        {
          "output_type": "stream",
          "name": "stdout",
          "text": [
            "Cluster Centers: [array([12.5, 12.5]), array([3., 3.])]\n"
          ]
        }
      ],
      "source": [
        "# Practice: KMeans Clustering\n",
        "from pyspark.ml.clustering import KMeans\n",
        "\n",
        "\n",
        "# Example dataset\n",
        "data = [(1,Vectors.dense ([1.0, 1.0])), (2,Vectors.dense ([5.0, 5.0])), (3,Vectors.dense ([10.0, 10.0])), (4,Vectors.dense ([15.0, 15.0]))]\n",
        "columns = ['ID', 'Features']\n",
        "df = spark.createDataFrame(data, columns)\n",
        "\n",
        "# Train KMeans clustering model\n",
        "kmeans = KMeans(featuresCol='Features', k=2)\n",
        "model = kmeans.fit(df)\n",
        "\n",
        "# Show cluster centers\n",
        "centers = model.clusterCenters()\n",
        "print(f'Cluster Centers: {centers}')\n"
      ]
    },
    {
      "cell_type": "markdown",
      "id": "a60a8d7e",
      "metadata": {
        "id": "a60a8d7e"
      },
      "source": [
        "## Homework\n",
        "- Load a real-world dataset into Spark and prepare it for machine learning tasks.\n",
        "- Build a classification model using Spark MLlib and evaluate its performance.\n",
        "- Explore hyperparameter tuning using cross-validation.\n"
      ]
    },
    {
      "cell_type": "code",
      "source": [
        "import pyspark\n",
        "from pyspark.sql import SparkSession\n",
        "from pyspark.ml.feature import VectorAssembler\n",
        "from pyspark.ml.classification import LogisticRegression\n",
        "\n",
        "#baca file\n",
        "data = SparkSession.builder.appName(\"Data ariel\").getOrCreate()\n",
        "im_data =data.read.csv(\"car_prices.csv\", header=True, inferSchema=True)\n",
        "im_data.show(100)\n",
        "\n"
      ],
      "metadata": {
        "colab": {
          "base_uri": "https://localhost:8080/"
        },
        "id": "CVUpEYVQRMeL",
        "outputId": "4cb5f3fd-efb4-41a9-ac03-48dfda923ee3"
      },
      "id": "CVUpEYVQRMeL",
      "execution_count": 1,
      "outputs": [
        {
          "output_type": "stream",
          "name": "stdout",
          "text": [
            "+----+---------+-------------------+--------------------+-----------+------------+-----------------+-----+---------+--------+--------+--------+--------------------+-----+------------+--------------------+\n",
            "|year|     make|              model|                trim|       body|transmission|              vin|state|condition|odometer|   color|interior|              seller|  mmr|sellingprice|            saledate|\n",
            "+----+---------+-------------------+--------------------+-----------+------------+-----------------+-----+---------+--------+--------+--------+--------------------+-----+------------+--------------------+\n",
            "|2015|      Kia|            Sorento|                  LX|        SUV|   automatic|5xyktca69fg566472|   ca|        5|   16639|   white|   black|kia motors americ...|20500|       21500|Tue Dec 16 2014 1...|\n",
            "|2015|      Kia|            Sorento|                  LX|        SUV|   automatic|5xyktca69fg561319|   ca|        5|    9393|   white|   beige|kia motors americ...|20800|       21500|Tue Dec 16 2014 1...|\n",
            "|2014|      BMW|           3 Series|          328i SULEV|      Sedan|   automatic|wba3c1c51ek116351|   ca|       45|    1331|    gray|   black|financial service...|31900|       30000|Thu Jan 15 2015 0...|\n",
            "|2015|    Volvo|                S60|                  T5|      Sedan|   automatic|yv1612tb4f1310987|   ca|       41|   14282|   white|   black|volvo na rep/worl...|27500|       27750|Thu Jan 29 2015 0...|\n",
            "|2014|      BMW|6 Series Gran Coupe|                650i|      Sedan|   automatic|wba6b2c57ed129731|   ca|       43|    2641|    gray|   black|financial service...|66000|       67000|Thu Dec 18 2014 1...|\n",
            "|2015|   Nissan|             Altima|               2.5 S|      Sedan|   automatic|1n4al3ap1fn326013|   ca|        1|    5554|    gray|   black|enterprise vehicl...|15350|       10900|Tue Dec 30 2014 1...|\n",
            "|2014|      BMW|                 M5|                Base|      Sedan|   automatic|wbsfv9c51ed593089|   ca|       34|   14943|   black|   black|the hertz corpora...|69000|       65000|Wed Dec 17 2014 1...|\n",
            "|2014|Chevrolet|              Cruze|                 1LT|      Sedan|   automatic|1g1pc5sb2e7128460|   ca|        2|   28617|   black|   black|enterprise vehicl...|11900|        9800|Tue Dec 16 2014 1...|\n",
            "|2014|     Audi|                 A4|2.0T Premium Plus...|      Sedan|   automatic|wauffafl3en030343|   ca|       42|    9557|   white|   black|  audi mission viejo|32100|       32250|Thu Dec 18 2014 1...|\n",
            "|2014|Chevrolet|             Camaro|                  LT|Convertible|   automatic|2g1fb3d37e9218789|   ca|        3|    4809|     red|   black|  d/m auto sales inc|26300|       17500|Tue Jan 20 2015 0...|\n",
            "|2014|     Audi|                 A6|3.0T Prestige qua...|      Sedan|   automatic|wauhgafc0en062916|   ca|       48|   14414|   black|   black|   desert auto trade|47300|       49750|Tue Dec 16 2014 1...|\n",
            "|2015|      Kia|             Optima|                  LX|      Sedan|   automatic|5xxgm4a73fg353538|   ca|       48|    2034|     red|     tan|  kia motors finance|15150|       17700|Tue Dec 16 2014 1...|\n",
            "|2015|     Ford|             Fusion|                  SE|      Sedan|   automatic|3fa6p0hdxfr145753|   ca|        2|    5559|   white|   beige|enterprise vehicl...|15350|       12000|Tue Jan 13 2015 1...|\n",
            "|2015|      Kia|            Sorento|                  LX|        SUV|   automatic|5xyktca66fg561407|   ca|        5|   14634|  silver|   black|kia motors americ...|20600|       21500|Tue Dec 16 2014 1...|\n",
            "|2014|Chevrolet|              Cruze|                 2LT|      Sedan|   automatic|1g1pe5sbxe7120097|   ca|     NULL|   15686|    blue|   black|avis rac/san leandro|13900|       10600|Tue Dec 16 2014 1...|\n",
            "|2015|   Nissan|             Altima|               2.5 S|      Sedan|   automatic|1n4al3ap5fc124223|   ca|        2|   11398|   black|   black|enterprise vehicl...|14750|       14100|Tue Dec 23 2014 1...|\n",
            "|2015|  Hyundai|             Sonata|                  SE|      Sedan|   automatic|5npe24af4fh001562|   ca|     NULL|    8311|     red|       —|            avis tra|15200|        4200|Tue Dec 16 2014 1...|\n",
            "|2014|     Audi|                 Q5|2.0T Premium Plus...|        SUV|   automatic|wa1lfafpxea085074|   ca|       49|    7983|   white|   black|audi north scotts...|37100|       40000|Thu Dec 18 2014 1...|\n",
            "|2014|Chevrolet|             Camaro|                  LS|      Coupe|   automatic|2g1fa1e39e9134494|   ca|       17|   13441|   black|   black|wells fargo deale...|17750|       17000|Tue Dec 30 2014 1...|\n",
            "|2014|      BMW|           6 Series|                650i|Convertible|   automatic|wbayp9c53ed169260|   ca|       34|    8819|   black|   black|the hertz corpora...|68000|       67200|Wed Dec 17 2014 1...|\n",
            "|2015|Chevrolet|             Impala|                 LTZ|      Sedan|   automatic|2g1165s30f9103921|   ca|       19|   14538|  silver|   black|enterprise vehicl...|24300|        7200|Tue Jul 07 2015 0...|\n",
            "|2014|      BMW|           5 Series|                528i|      Sedan|   automatic|wba5a5c51ed501631|   ca|       29|   25969|   black|   black|financial service...|34200|       30000|Tue Feb 03 2015 0...|\n",
            "|2014|Chevrolet|             Camaro|                  LT|Convertible|   automatic|2g1fb3d31e9134662|   ca|     NULL|   33450|   black|   black|avis rac/san leandro|20100|       14700|Tue Dec 16 2014 1...|\n",
            "|2015|     Audi|                 A3|    1.8 TFSI Premium|      Sedan|   automatic|wauacgff7f1002327|   ca|       49|    5826|    gray|   black|audi north scotts...|24000|       23750|Thu Dec 18 2014 1...|\n",
            "|2014|      BMW|           6 Series|                650i|Convertible|   automatic|wbayp9c57ed169262|   ca|       38|   10736|   black|   black|the hertz corpora...|67000|       65000|Tue Jan 06 2015 1...|\n",
            "|2015|  Hyundai|             Sonata|                  SE|      Sedan|   automatic|5npe24af4fh038482|   ca|     NULL|    9281|  silver|    gray|enterprise vehicl...|15150|        8500|Tue Dec 16 2014 1...|\n",
            "|2015|    Volvo|               XC70|                  T6|      Wagon|   automatic|yv4902nb3f1198103|   ca|       42|   16506|   brown|   brown|volvo na rep/worl...|32100|       32500|Thu Feb 26 2015 0...|\n",
            "|2015|    Volvo|               XC70|                  T6|      Wagon|   automatic|yv4902nb3f1196951|   ca|       48|   12725|   beige|   beige|volvo na rep/worl...|32300|       32500|Thu Feb 12 2015 0...|\n",
            "|2014|      BMW|                 X5|           sDrive35i|        SUV|   automatic|5uxkr2c52e0h33130|   ca|     NULL|   11278|    gray|   black|avis rac/san leandro|50400|       34000|Tue Dec 16 2014 1...|\n",
            "|2014|Chevrolet|             Camaro|                  LT|      Coupe|   automatic|2g1fb1e35e9238302|   ca|       42|   11874|    gray|   black|midway hfc fleet/ars|22200|       19500|Thu Dec 18 2014 1...|\n",
            "|2014|Chevrolet|              Cruze|                 1LT|      Sedan|   automatic|1g1pc5sb2e7105471|   ca|       42|   37888|    gray|   black|enterprise vehicl...|11600|       11500|Tue Dec 30 2014 1...|\n",
            "|2014|     Audi|                SQ5|3.0T Premium Plus...|        SUV|   automatic|wa1cgafp4ea030312|   ca|       42|    9606|   white|   black|audi of downtown l a|48600|       47500|Thu Jan 29 2015 0...|\n",
            "|2015|      Kia|            Sorento|                  LX|        SUV|   automatic|5xyktca60fg565226|   ca|        5|   13757|     red|   black|kia motors americ...|20600|       20750|Tue Dec 16 2014 1...|\n",
            "|2014|     Audi|                 S5|Premium Plus quattro|      Coupe|   automatic|waucgafrxea001689|   ca|       38|    5875|   black|   black|fratelli investme...|46500|       44500|Thu Dec 18 2014 1...|\n",
            "|2015|      Kia|            Sorento|                  LX|        SUV|   automatic|5xyktca68fg559481|   ca|       44|   12862|    gray|   black|kia motors americ...|20700|       21000|Tue Dec 16 2014 1...|\n",
            "|2014|    Buick|             Verano|   Convenience Group|      Sedan|        NULL|1g4pr5sk8e4175320|   ca|        2|   19531|    gray|    gray|enterprise vehicl...|15000|        9200|Tue Jan 06 2015 0...|\n",
            "|2015|Chevrolet|           Suburban|                 LTZ|        SUV|   automatic|1gnskkkc3fr187901|   ca|       45|   11426|   black|   black|midway hfc fleet/ars|57300|       59900|Thu Dec 18 2014 1...|\n",
            "|2014|      BMW|           3 Series|          328i SULEV|      Sedan|   automatic|wba3c1c50ek108497|   ca|        5|     111|   black|       —|financial service...|32200|       30500|Thu Jan 15 2015 0...|\n",
            "|2014|      BMW|                 M5|                Base|      Sedan|   automatic|wbsfv9c56ed593069|   ca|       38|   16360|   black|   black|the hertz corpora...|65000|       64250|Tue Jan 13 2015 0...|\n",
            "|2014|      BMW|           3 Series|          328i SULEV|      Sedan|   automatic|wba3c1c58ek106688|   ca|       45|    9027|   white|   black|financial service...|30200|       27500|Thu Jan 15 2015 0...|\n",
            "|2014| Cadillac|                ELR|                Base|      Coupe|   automatic|1g6rr1e48eu601450|   ca|       47|    4436|    gray|   black|            rogue cu|49400|       44000|Wed Feb 04 2015 0...|\n",
            "|2015|  Hyundai|             Sonata|                  SE|      Sedan|   automatic|5npe24af2fh014813|   ca|     NULL|    9208|  silver|    gray|enterprise vehicl...|15700|       10000|Thu Dec 18 2014 1...|\n",
            "|2014|      BMW|           6 Series|                650i|Convertible|   automatic|wbayp9c50ed169281|   ca|       32|   13205|   white|   black|the hertz corpora...|66000|       65000|Tue Jan 06 2015 0...|\n",
            "|2015|    Volvo|                V60|                  T5|      Wagon|   automatic|yv1612sb9f1202043|   ca|       41|   11846|   white|   beige|volvo na rep/worl...|31300|       30000|Thu Dec 18 2014 1...|\n",
            "|2014|Chevrolet|              Cruze|                 1LT|      Sedan|        NULL|1g1pc5sb6e7128803|   ca|     NULL|   38261|   white|       —|            avis tra|11450|        2000|Tue Dec 16 2014 1...|\n",
            "|2014|      BMW|                 X6|           xDrive35i|        SUV|   automatic|5uxfg2c53e0h11080|   ca|        4|     379|   white|   black|financial service...|54800|       51700|Thu Dec 18 2014 1...|\n",
            "|2015|    Volvo|                V60|                  T5|      Wagon|   automatic|yv1612sb1f1201503|   ca|       42|   12242|   black|    gray|volvo na rep/worl...|31200|       30000|Thu Dec 18 2014 1...|\n",
            "|2014|Chevrolet|              Cruze|                 2LT|      Sedan|   automatic|1g1pe5sb6e7118217|   ca|       34|   40661|  silver|   black|    avis corporation|13050|       13000|Thu Jan 22 2015 0...|\n",
            "|2014|    Acura|                ILX|  Technology Package|      Sedan|   automatic|19vde1f70ee008913|   ca|       25|    9051|    gray|   black|american honda mo...|22700|       21250|Thu Dec 18 2014 1...|\n",
            "|2015|      Kia|            Sorento|                  LX|        SUV|   automatic|5xyktca67fg570973|   ca|        5|   13878|  silver|   black|kia motors americ...|20600|       20750|Tue Dec 16 2014 1...|\n",
            "|2015|    Volvo|                V60|                  T5|      Wagon|   automatic|yv1612sbxf1202276|   ca|       37|   10906|  silver|   black|volvo na rep/worl...|31500|       30000|Thu Dec 18 2014 1...|\n",
            "|2015|   Nissan|             Altima|               2.5 S|      Sedan|   automatic|1n4al3ap4fn313644|   ca|     NULL|   10678|    gray|   black|enterprise vehicl...|15150|       11600|Thu Dec 18 2014 1...|\n",
            "|2014|      BMW|6 Series Gran Coupe|                650i|      Sedan|   automatic|wba6b2c51ed129563|   ca|       42|    7305|   white|   black|the hertz corpora...|65000|       66100|Wed Dec 17 2014 1...|\n",
            "|2015|   Nissan|             Altima|               2.5 S|      Sedan|   automatic|1n4al3ap1fn331213|   ca|        1|    4314|   black|   black|enterprise vehicl...|15500|       11500|Tue Dec 30 2014 1...|\n",
            "|2015|      Kia|               K900|              Luxury|      Sedan|   automatic|knalw4d42f6019667|   ca|       42|    5304|    blue|   black|kia motors americ...|39500|       40000|Tue Feb 17 2015 0...|\n",
            "|2015|      Kia|            Sorento|                  LX|        SUV|   automatic|5xyktca63fg570727|   ca|       48|   10357|  silver|    gray|kia motors americ...|20700|       20500|Tue Dec 16 2014 1...|\n",
            "|2015|Chevrolet|             Malibu|                  LT|      Sedan|   automatic|1g11d5sl6fu106427|   ca|        1|    6105|  silver|   black|enterprise vehicl...|16600|        9800|Wed Jan 14 2015 0...|\n",
            "|2015|    Lexus|             RX 350|                Base|        SUV|   automatic|2t2zk1ba7fc155782|   ca|       43|    7770|   white|   black|lexus financial s...|41200|       38400|Tue Dec 30 2014 0...|\n",
            "|2015|      Kia|            Sorento|                  LX|        SUV|   automatic|5xykt3a62fg579841|   ca|        5|    5214|   white|   black|  kia motors finance|19400|       19300|Tue Dec 16 2014 1...|\n",
            "|2014|      BMW|                 M5|                Base|      Sedan|   automatic|wbsfv9c51ed097712|   ca|       47|    7766|    gray|   black|fratelli investme...|71000|       77250|Thu Dec 18 2014 1...|\n",
            "|2015|      Kia|               K900|              Luxury|      Sedan|   automatic|knalw4d42f6018633|   ca|       44|    9684|   white|    gray|kia motors americ...|41000|       41000|Tue Jan 20 2015 0...|\n",
            "|2015|     Audi|                 A3|    1.8 TFSI Premium|      Sedan|   automatic|wauacgff6f1029938|   ca|        2|      31|   white|   black|enterprise vehicl...|24200|       17300|Tue Dec 23 2014 1...|\n",
            "|2015|   Nissan|              Versa|              1.6 SL|      Sedan|      manual|3n1cn7ap7fl842707|   ca|       39|    1608|  purple|   black|  nissan-infiniti lt|10900|       11000|Wed Dec 17 2014 1...|\n",
            "|2014|Chevrolet|             Camaro|                  LT|      Coupe|   automatic|2g1fb1e35e9238493|   ca|       31|    9914|   black|   black|midway hfc fleet/ars|22500|       20600|Thu Dec 18 2014 1...|\n",
            "|2015|  Hyundai|            Elantra|                  SE|      Sedan|   automatic|5npdh4ae2fh565969|   ca|        1|    7879|  silver|    gray|enterprise vehicl...|13800|       10500|Tue Dec 16 2014 1...|\n",
            "|2015|      Kia|            Sorento|                  LX|        SUV|   automatic|5xyktca6xfg560888|   ca|        5|   14176|   white|   black|kia motors americ...|20600|       21250|Tue Dec 16 2014 1...|\n",
            "|2014|Chevrolet|             Camaro|                  LT|      Coupe|   automatic|2g1fb1e33e9211499|   ca|       41|   17594|    gray|   black|midway hfc fleet/ars|21500|       19600|Thu Dec 18 2014 1...|\n",
            "|2015|     Audi|                 A3|    1.8 TFSI Premium|      Sedan|   automatic|wauacgff1f1002467|   ca|        5|    1906|    gray|   black|audi north scotts...|24100|       25750|Thu Dec 18 2014 1...|\n",
            "|2014|      BMW|           6 Series|                650i|Convertible|   automatic|wbayp9c55ed169261|   ca|        4|    8037|   black|   black|the hertz corpora...|67000|       65000|Tue Jan 06 2015 1...|\n",
            "|2015|   Nissan|         Versa Note|              1.6 SV|  Hatchback|   automatic|3n1ce2cp8fl371361|   ca|        2|    5773|     red|   black|enterprise vehicl...|12050|        9000|Tue Jan 13 2015 1...|\n",
            "|2014|     Audi|                 A8|      L 3.0T quattro|      Sedan|   automatic|waurgafd8en003111|   ca|       43|   32918|   black|   black|    audi west covina|62000|       50000|Tue Dec 30 2014 1...|\n",
            "|2014|      BMW|                 X1|           sDrive28i|        SUV|   automatic|wbavm1c53evw47779|   ca|       48|   19689|   white|   black|financial service...|23700|       26500|Thu Dec 18 2014 1...|\n",
            "|2014|      BMW|               NULL|               750Li|      Sedan|   automatic|wbaye8c59ed134514|   ca|       43|   12172|   black|   black|financial service...|67000|       66000|Thu Dec 18 2014 1...|\n",
            "|2014|Chevrolet|             Camaro|                  LT|      Coupe|   automatic|2g1fb1e31e9248986|   ca|        1|   20595|     red|    gray|enterprise vehicl...|20800|       13600|Tue Dec 16 2014 1...|\n",
            "|2015|    Volvo|                V60|                  T5|      Wagon|   automatic|yv1612sb8f1201529|   ca|        4|   13623|  silver|   black|volvo na rep/worl...|28400|       28000|Thu Feb 26 2015 0...|\n",
            "|2014|      BMW|           6 Series|                650i|      Coupe|   automatic|wbaym9c53ed248064|   ca|        4|    9837|   black|       —|financial service...|62000|       61500|Thu Dec 18 2014 1...|\n",
            "|2014|Chevrolet|             Camaro|                  LT|      Coupe|   automatic|2g1fb1e37e9270877|   ca|        3|   13606|   black|   black|enterprise vehicl...|21400|       13000|Tue Jan 06 2015 1...|\n",
            "|2014|      BMW|6 Series Gran Coupe|                650i|      Sedan|   automatic|wba6b2c53ed128866|   ca|       29|   37752|   white|   black|financial service...|62000|       58000|Tue Dec 16 2014 1...|\n",
            "|2015|      Kia|            Sorento|                  LX|        SUV|   automatic|5xyktca68fg570979|   ca|       44|    9161|  silver|   black|kia motors americ...|20800|       22250|Tue Dec 16 2014 1...|\n",
            "|2015|      Kia|            Sorento|                  LX|        SUV|   automatic|5xyktca65fg571619|   ca|        5|   11001|   white|   black|kia motors americ...|20700|       22500|Tue Dec 16 2014 1...|\n",
            "|2014|    Buick|            Enclave|       Leather Group|        SUV|   automatic|5gakrbkd2ej294045|   ca|        1|   14599|    gray|   black|enterprise vehicl...|31000|       24100|Tue Dec 30 2014 1...|\n",
            "|2014|      BMW|                 M5|                Base|      Sedan|   automatic|wbsfv9c54ed593085|   ca|       38|   13386|   white|   black|the hertz corpora...|67000|       65000|Thu Dec 18 2014 1...|\n",
            "|2014|      BMW|                 M5|                Base|      Sedan|   automatic|wbsfv9c55ed593080|   ca|       41|   15161|   white|   black|the hertz corpora...|66000|       65801|Tue Dec 23 2014 1...|\n",
            "|2014|     Audi|                TTS|             quattro|      Coupe|   automatic|trub1afk9e1007640|   ca|       28|    3996|  silver|   black|fratelli investme...|41400|       34250|Thu Dec 18 2014 1...|\n",
            "|2015|  Hyundai|            Elantra|                  SE|      Sedan|   automatic|5npdh4ae2fh566023|   ca|        2|   10551|     red|    gray|enterprise vehicl...|13850|       10600|Tue Jan 13 2015 1...|\n",
            "|2014|      BMW|           4 Series|          428i SULEV|      Coupe|   automatic|wba3n7c55ef719079|   ca|       37|   18152|   white|   black|street smartz aut...|31000|       39750|Tue Dec 16 2014 1...|\n",
            "|2015|      Kia|            Sorento|                  LX|        SUV|   automatic|5xyktca64fg570963|   ca|       46|   13452|  silver|   black|kia motors americ...|20600|       21500|Tue Dec 16 2014 1...|\n",
            "|2014|Chevrolet|              Cruze|                 2LT|      Sedan|   automatic|1g1pe5sb5e7115504|   ca|       41|   37938|   black|   black|avis rac/san leandro|12950|       13700|Wed Dec 17 2014 1...|\n",
            "|2014|Chevrolet|              Cruze|                 2LT|      Sedan|   automatic|1g1pe5sb0e7134820|   ca|       42|   39623|    blue|   black|    avis corporation|13350|       13200|Thu Jan 15 2015 0...|\n",
            "|2014|Chevrolet|   Silverado 2500HD|          Work Truck|   Crew Cab|        NULL|1gc1kvc84ef152736|   ca|       36|    8742|   white|    gray|enterprise fleet ...|34000|       34000|Thu Dec 18 2014 1...|\n",
            "|2015|      Kia|            Sorento|                  LX|        SUV|   automatic|5xyktca60fg563086|   ca|        5|   16348|    gray|    gray|kia motors americ...|20500|       20500|Tue Dec 16 2014 1...|\n",
            "|2015|  Hyundai|            Elantra|                  SE|      Sedan|   automatic|5npdh4ae2fh553630|   ca|     NULL|    9750|    blue|    gray|avis rac/san leandro|13700|       10000|Tue Dec 16 2014 1...|\n",
            "|2015|  Hyundai|            Elantra|                  SE|      Sedan|   automatic|5npdh4ae4fh552981|   ca|       35|    3367|  silver|    gray|        ag leaseplan|13900|       13200|Wed Dec 17 2014 1...|\n",
            "|2014|    Acura|                MDX|Advance and Enter...|        SUV|   automatic|5fryd3h83eb011004|   ca|       49|   21523|   white|    gray|onemain rem/m&m a...|39500|       41500|Thu Dec 18 2014 1...|\n",
            "|2015|     Ford|             Fusion|                  SE|      Sedan|   automatic|3fa6p0h7xfr151689|   ca|        1|    4205|   white|   black|enterprise vehicl...|14700|       12000|Wed Dec 17 2014 1...|\n",
            "|2014|      BMW|           6 Series|                650i|Convertible|   automatic|wbayp9c53ed169288|   ca|       37|    8891|  silver|   black|the hertz corpora...|68000|       67200|Wed Dec 17 2014 1...|\n",
            "|2014|Chevrolet|              Cruze|                 2LT|      Sedan|   automatic|1g1pe5sb8e7420706|   ca|        2|    8154|  silver|   black|enterprise vehicl...|14150|       10000|Thu Dec 18 2014 1...|\n",
            "|2014|Chevrolet|     Silverado 1500|                  LT|   Crew Cab|   automatic|3gcpcrecxeg363552|   ca|       37|    6726|   black|   black|repo remarketing/...|26900|       30250|Wed Dec 17 2014 1...|\n",
            "|2014|Chevrolet|              Cruze|                 2LT|      Sedan|   automatic|1g1pe5sb4e7109323|   ca|       37|   36771|  silver|   black|avis rac/san leandro|13000|       13600|Wed Dec 17 2014 1...|\n",
            "|2015|      Kia|            Sorento|                  LX|        SUV|   automatic|5xyktca67fg567068|   ca|       49|    9552|burgundy|   beige|kia motors americ...|20800|       21000|Tue Dec 16 2014 1...|\n",
            "+----+---------+-------------------+--------------------+-----------+------------+-----------------+-----+---------+--------+--------+--------+--------------------+-----+------------+--------------------+\n",
            "only showing top 100 rows\n",
            "\n"
          ]
        }
      ]
    },
    {
      "cell_type": "code",
      "source": [
        "from pyspark.sql.functions import col\n",
        "\n",
        "clean_data= im_data.dropna()\n",
        "clean_data.show()\n"
      ],
      "metadata": {
        "colab": {
          "base_uri": "https://localhost:8080/"
        },
        "id": "F1HoVT-RS8rQ",
        "outputId": "49da4713-23c0-4272-b262-2662cbe12e6f"
      },
      "id": "F1HoVT-RS8rQ",
      "execution_count": null,
      "outputs": [
        {
          "output_type": "stream",
          "name": "stdout",
          "text": [
            "+------------+-------------+-----------------+----------------+\n",
            "|Umur (bulan)|Jenis Kelamin|Tinggi Badan (cm)|     Status Gizi|\n",
            "+------------+-------------+-----------------+----------------+\n",
            "|           0|    laki-laki| 44.5919732943438|         stunted|\n",
            "|           0|    laki-laki| 56.7052033668847|          tinggi|\n",
            "|           0|    laki-laki| 46.8633575967919|          normal|\n",
            "|           0|    laki-laki| 47.5080256315438|          normal|\n",
            "|           0|    laki-laki| 42.7434938911793|severely stunted|\n",
            "|           0|    laki-laki|   .2577186391463|         stunted|\n",
            "|           0|    laki-laki| 42.7017961514634|severely stunted|\n",
            "|           0|    laki-laki| 45.2517789938352|         stunted|\n",
            "|           0|    laki-laki|  57.201961037402|          tinggi|\n",
            "|           0|    laki-laki| 51.3538576645907|          normal|\n",
            "|           0|    laki-laki| 53.0499109874484|          normal|\n",
            "|           0|    laki-laki| 43.5448720454205|severely stunted|\n",
            "|           0|    laki-laki| 46.2526320256362|          normal|\n",
            "|           0|    laki-laki| 43.6760350399285|severely stunted|\n",
            "|           0|    laki-laki| 52.6397050139326|          normal|\n",
            "|           0|    laki-laki| 46.8869974730066|          normal|\n",
            "|           0|    laki-laki|  49.748323964378|          normal|\n",
            "|           0|    laki-laki| 42.0181075624513|severely stunted|\n",
            "|           0|    laki-laki| 45.9674598956419|         stunted|\n",
            "|           0|    laki-laki| 56.4878694570832|          tinggi|\n",
            "+------------+-------------+-----------------+----------------+\n",
            "only showing top 20 rows\n",
            "\n"
          ]
        }
      ]
    },
    {
      "cell_type": "code",
      "source": [
        "from pyspark.ml.feature import VectorAssembler\n",
        "from pyspark.sql.functions import col\n",
        "\n",
        "# Pilih fitur untuk model (numerik & kategorikal yang sudah diproses)\n",
        "feature_columns = ['year', 'odometer', 'condition']  # Sesuaikan dengan dataset Anda\n",
        "assembler = VectorAssembler(inputCols=feature_columns, outputCol='features')\n",
        "\n",
        "# Transformasi data menjadi fitur vektor\n",
        "data_transformed = assembler.transform(data)\n",
        "\n",
        "from pyspark.sql.functions import when\n",
        "\n",
        "# Membuat label berdasarkan sellingprice (contoh kategori: \"murah\" atau \"mahal\")\n",
        "data_transformed = data_transformed.withColumn(\n",
        "    'label', when(col('sellingprice') < 20000, 0).otherwise(1)\n",
        ")\n",
        "\n",
        "# Hapus baris dengan nilai null di label atau fitur\n",
        "data_final = data_transformed.select('features', 'label').na.drop()\n",
        "\n",
        "# Split dataset menjadi training dan testing\n",
        "train_data, test_data = data_final.randomSplit([0.8, 0.2], seed=42)\n",
        "\n",
        "from pyspark.ml.classification import LogisticRegression\n",
        "\n",
        "# Buat model Logistic Regression\n",
        "lr = LogisticRegression(featuresCol='features', labelCol='label', maxIter=10)\n",
        "\n",
        "# Latih model pada data training\n",
        "lr_model = lr.fit(train_data)\n",
        "\n",
        "from pyspark.ml.evaluation import BinaryClassificationEvaluator\n",
        "\n",
        "# Prediksi pada data pengujian\n",
        "predictions = lr_model.transform(test_data)\n",
        "\n",
        "# Evaluasi dengan BinaryClassificationEvaluator\n",
        "evaluator = BinaryClassificationEvaluator(labelCol='label')\n",
        "auc = evaluator.evaluate(predictions)\n",
        "\n",
        "print(f'AUC: {auc:.2f}')\n"
      ],
      "metadata": {
        "id": "ZZtDzgV5evHI"
      },
      "id": "ZZtDzgV5evHI",
      "execution_count": null,
      "outputs": []
    },
    {
      "cell_type": "code",
      "source": [
        "from pyspark.sql import SparkSession\n",
        "from pyspark.sql.functions import col, when\n",
        "from pyspark.ml.feature import StringIndexer, VectorAssembler\n",
        "from pyspark.ml.classification import LogisticRegression\n",
        "from pyspark.ml.evaluation import MulticlassClassificationEvaluator\n",
        "from pyspark.ml.tuning import CrossValidator, ParamGridBuilder\n",
        "\n",
        "# 1. Membuat SparkSession\n",
        "spark = SparkSession.builder.appName(\"CarClassification\").getOrCreate()\n",
        "\n",
        "# 2. Membaca dataset kendaraan\n",
        "data = spark.read.csv(\"car_prices.csv\", header=True, inferSchema=True)\n",
        "\n",
        "# 3. Menambahkan kolom target `selling_speed` (cepat/lambat) berdasarkan threshold harga\n",
        "threshold = data.approxQuantile(\"sellingprice\", [0.5], 0.01)[0]  # Median selling price\n",
        "data = data.withColumn(\"selling_speed\", when(col(\"sellingprice\") >= threshold, 1).otherwise(0))\n",
        "\n",
        "# 4. Menangani nilai kosong (sudah bersih, ini hanya antisipasi)\n",
        "data = data.dropna(subset=[\"condition\", \"odometer\", \"mmr\", \"selling_speed\"])\n",
        "\n",
        "# 5. Mengonversi kolom kategorikal\n",
        "# Handle null values during StringIndexer transformation by setting handleInvalid to 'skip' or 'keep'\n",
        "transmission_indexer = StringIndexer(inputCol=\"transmission\", outputCol=\"transmissionIndexed\", handleInvalid=\"skip\") # Changed here\n",
        "body_indexer = StringIndexer(inputCol=\"body\", outputCol=\"bodyIndexed\", handleInvalid=\"skip\") # Changed here\n",
        "data = transmission_indexer.fit(data).transform(data)\n",
        "data = body_indexer.fit(data).transform(data)\n",
        "\n",
        "# 6. Menyusun fitur menjadi vektor\n",
        "feature_columns = [\"condition\", \"odometer\", \"mmr\", \"transmissionIndexed\", \"bodyIndexed\"]\n",
        "assembler = VectorAssembler(inputCols=feature_columns, outputCol=\"features\")\n",
        "data = assembler.transform(data)\n",
        "\n",
        "# 7. Membagi data menjadi data latih dan data uji\n",
        "train_data, test_data = data.randomSplit([0.8, 0.2], seed=123)\n",
        "\n",
        "# 8. Membuat model Logistic Regression\n",
        "lr = LogisticRegression(featuresCol=\"features\", labelCol=\"selling_speed\")\n",
        "\n",
        "# 9. Membuat parameter grid untuk hyperparameter tuning\n",
        "paramGrid = ParamGridBuilder() \\\n",
        "    .addGrid(lr.regParam, [0.01, 0.1, 1.0]) \\\n",
        "    .addGrid(lr.elasticNetParam, [0.0, 0.5, 1.0]) \\\n",
        "    .build()\n",
        "\n",
        "# 10. Evaluasi model\n",
        "evaluator = MulticlassClassificationEvaluator(labelCol=\"selling_speed\", predictionCol=\"prediction\", metricName=\"accuracy\")\n",
        "\n",
        "# 11. Cross-validation\n",
        "crossval = CrossValidator(estimator=lr,\n",
        "                          estimatorParamMaps=paramGrid,\n",
        "                          evaluator=evaluator,\n",
        "                          numFolds=5)\n",
        "\n",
        "# 12. Melatih model\n",
        "cv_model = crossval.fit(train_data)\n",
        "\n",
        "# 13. Melakukan prediksi pada data uji\n",
        "predictions = cv_model.transform(test_data)\n",
        "\n",
        "# Menampilkan hasil prediksi\n",
        "print(\"Hasil Prediksi:\")\n",
        "predictions.select(\"features\", \"selling_speed\", \"prediction\").show()\n",
        "\n",
        "# 14. Evaluasi akurasi\n",
        "accuracy = evaluator.evaluate(predictions)\n",
        "print(f\"Akurasi Model dengan Validasi Silang: {accuracy}\")\n",
        "\n",
        "# 15. Menampilkan parameter terbaik\n",
        "best_model = cv_model.bestModel\n",
        "print(\"Parameter Model Terbaik:\")\n",
        "print(f\"regParam: {best_model._java_obj.getRegParam()}\")\n",
        "print(f\"elasticNetParam: {best_model._java_obj.getElasticNetParam()}\")\n",
        "\n"
      ],
      "metadata": {
        "id": "fqhRxdQvfY6B"
      },
      "id": "fqhRxdQvfY6B",
      "execution_count": null,
      "outputs": []
    }
  ],
  "metadata": {
    "colab": {
      "provenance": []
    },
    "language_info": {
      "name": "python"
    },
    "kernelspec": {
      "name": "python3",
      "display_name": "Python 3"
    }
  },
  "nbformat": 4,
  "nbformat_minor": 5
}